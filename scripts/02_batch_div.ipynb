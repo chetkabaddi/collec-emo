{
 "cells": [
  {
   "cell_type": "code",
   "execution_count": 2,
   "metadata": {},
   "outputs": [],
   "source": [
    "import pandas as pd\n",
    "import numpy as np"
   ]
  },
  {
   "cell_type": "markdown",
   "metadata": {},
   "source": [
    "### Script objectives:\n",
    "1. Create a dataframe from the .csv file containing cleaned tweet IDs\n",
    "2. Divide the IDs into batches of 1 million IDs \n",
    "3. Save the batches as .csv"
   ]
  },
  {
   "cell_type": "code",
   "execution_count": null,
   "metadata": {},
   "outputs": [],
   "source": [
    "df = pd.read_csv('../tweet_analysis/full_dataset-clean_tweetids.csv', names=['ID'])"
   ]
  },
  {
   "cell_type": "code",
   "execution_count": 11,
   "metadata": {},
   "outputs": [
    {
     "name": "stdout",
     "output_type": "stream",
     "text": [
      "IDs_0-1000000.csv\n",
      "IDs_1000000-2000000.csv\n",
      "IDs_2000000-3000000.csv\n",
      "IDs_3000000-4000000.csv\n",
      "IDs_4000000-5000000.csv\n",
      "IDs_5000000-6000000.csv\n",
      "IDs_6000000-7000000.csv\n",
      "IDs_7000000-8000000.csv\n",
      "IDs_8000000-9000000.csv\n",
      "IDs_9000000-10000000.csv\n",
      "IDs_10000000-11000000.csv\n",
      "IDs_11000000-12000000.csv\n",
      "IDs_12000000-13000000.csv\n",
      "IDs_13000000-14000000.csv\n",
      "IDs_14000000-15000000.csv\n",
      "IDs_15000000-16000000.csv\n",
      "IDs_16000000-17000000.csv\n",
      "IDs_17000000-18000000.csv\n",
      "IDs_18000000-19000000.csv\n",
      "IDs_19000000-20000000.csv\n",
      "IDs_20000000-21000000.csv\n",
      "IDs_21000000-22000000.csv\n",
      "IDs_22000000-23000000.csv\n",
      "IDs_23000000-24000000.csv\n",
      "IDs_24000000-25000000.csv\n",
      "IDs_25000000-26000000.csv\n",
      "IDs_26000000-27000000.csv\n",
      "IDs_27000000-28000000.csv\n",
      "IDs_28000000-29000000.csv\n",
      "IDs_29000000-30000000.csv\n",
      "IDs_30000000-31000000.csv\n",
      "IDs_31000000-32000000.csv\n",
      "IDs_32000000-33000000.csv\n",
      "IDs_33000000-34000000.csv\n",
      "IDs_34000000-35000000.csv\n",
      "IDs_35000000-36000000.csv\n",
      "IDs_36000000-37000000.csv\n",
      "IDs_37000000-38000000.csv\n",
      "IDs_38000000-39000000.csv\n",
      "IDs_39000000-40000000.csv\n",
      "IDs_40000000-41000000.csv\n",
      "IDs_41000000-42000000.csv\n",
      "IDs_42000000-43000000.csv\n",
      "IDs_43000000-44000000.csv\n",
      "IDs_44000000-45000000.csv\n",
      "IDs_45000000-46000000.csv\n",
      "IDs_46000000-47000000.csv\n",
      "IDs_47000000-48000000.csv\n",
      "IDs_48000000-49000000.csv\n",
      "IDs_49000000-50000000.csv\n",
      "IDs_50000000-51000000.csv\n",
      "IDs_51000000-52000000.csv\n",
      "IDs_52000000-52026197.csv\n"
     ]
    }
   ],
   "source": [
    "start = 0 \n",
    "final = 52026197\n",
    "end = 1000000\n",
    "while(start<final) :\n",
    "    df_temp = df[start:end]\n",
    "    file_name = \"IDs_\"+str(start)+\"-\"+str(end)+\".csv\"\n",
    "#     df_temp.to_csv(file_name,header=False, index=False)\n",
    "    print(file_name)\n",
    "    start = end\n",
    "    end+=1000000\n",
    "    if(end>final) :\n",
    "        end = final"
   ]
  },
  {
   "cell_type": "code",
   "execution_count": null,
   "metadata": {},
   "outputs": [],
   "source": []
  }
 ],
 "metadata": {
  "kernelspec": {
   "display_name": "Python 3",
   "language": "python",
   "name": "python3"
  },
  "language_info": {
   "codemirror_mode": {
    "name": "ipython",
    "version": 3
   },
   "file_extension": ".py",
   "mimetype": "text/x-python",
   "name": "python",
   "nbconvert_exporter": "python",
   "pygments_lexer": "ipython3",
   "version": "3.8.10"
  }
 },
 "nbformat": 4,
 "nbformat_minor": 4
}
